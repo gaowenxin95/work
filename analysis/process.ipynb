{
 "cells": [
  {
   "cell_type": "code",
   "execution_count": 24,
   "metadata": {},
   "outputs": [],
   "source": [
    "import pandas as pd\n",
    "import numpy as np\n",
    "import json"
   ]
  },
  {
   "cell_type": "code",
   "execution_count": 2,
   "metadata": {},
   "outputs": [],
   "source": [
    "train=pd.read_json('../data/chinese_relation_ace05/dev.json',encoding='utf-8',orient='columns',lines=True)\n"
   ]
  },
  {
   "cell_type": "code",
   "execution_count": 3,
   "metadata": {},
   "outputs": [
    {
     "data": {
      "text/plain": [
       "2    911\n",
       "1     24\n",
       "Name: len, dtype: int64"
      ]
     },
     "execution_count": 3,
     "metadata": {},
     "output_type": "execute_result"
    }
   ],
   "source": [
    "train['len']=train['arguments'].apply(lambda x: len(x))\n",
    "train['len'].value_counts()"
   ]
  },
  {
   "cell_type": "code",
   "execution_count": 5,
   "metadata": {},
   "outputs": [
    {
     "data": {
      "text/plain": [
       "24"
      ]
     },
     "execution_count": 5,
     "metadata": {},
     "output_type": "execute_result"
    }
   ],
   "source": [
    "train1=train[train['len']==1]\n",
    "train2=train[train['len']==2]\n",
    "len(train1)"
   ]
  },
  {
   "cell_type": "code",
   "execution_count": 6,
   "metadata": {},
   "outputs": [],
   "source": [
    "train1.reset_index(inplace=True)\n",
    "train2.reset_index(inplace=True)"
   ]
  },
  {
   "cell_type": "code",
   "execution_count": 7,
   "metadata": {},
   "outputs": [],
   "source": [
    "def process1(df):\n",
    "    lab_list=[]\n",
    "    for i in range(0,len(df)):\n",
    "        train_arguments=df[\"arguments\"]\n",
    "        train_df=train_arguments[i]\n",
    "        d1={k:v for k, v in train_df[0].items() if k in ('text', 'role')} \n",
    "        #d2={k:v for k, v in train_df[1].items() if k in ('text', 'role')} #有些list里面可能只有一个\n",
    "        new_dict={'text':df.text[i],'relation-type':df['relation-type'][i],'spo_list':[d1]}\n",
    "        lab_list.append(new_dict)\n",
    "    return lab_list\n",
    "    "
   ]
  },
  {
   "cell_type": "code",
   "execution_count": 8,
   "metadata": {},
   "outputs": [],
   "source": [
    "def process2(df):\n",
    "    lab_list=[]\n",
    "    for i in range(0,len(df)):\n",
    "        train_arguments=df[\"arguments\"]\n",
    "        train_df=train_arguments[i]\n",
    "        d1={k:v for k, v in train_df[0].items() if k in ('text', 'role')} \n",
    "        d2={k:v for k, v in train_df[1].items() if k in ('text', 'role')} #有些list里面可能只有一个\n",
    "        new_dict={'text':df.text[i],'relation-type':df['relation-type'][i],'spo_list':[d1,d2]}\n",
    "        lab_list.append(new_dict)\n",
    "    return lab_list\n",
    "    "
   ]
  },
  {
   "cell_type": "code",
   "execution_count": 44,
   "metadata": {},
   "outputs": [
    {
     "data": {
      "text/plain": [
       "[{'text': '中\\n央纪委有关负责人',\n",
       "  'relation-type': 'ORG-AFF:Employment',\n",
       "  'spo_list': [{'text': '中\\n央纪委有关负责人', 'role': 'Arg-1'}]},\n",
       " {'text': '根据中国共产党纪律处分条例试行的有关规定，经\\n中共中央 批准，中央纪委决定，给予吴文英同志留党查看两年处\\n分并建议全国政协按程序撤消其全国政协 委员、常务委员的资格',\n",
       "  'relation-type': 'ORG-AFF:Employment',\n",
       "  'spo_list': [{'text': '全国政协', 'role': 'Arg-2'}]},\n",
       " {'text': '东莞市委市政府',\n",
       "  'relation-type': 'PART-WHOLE:Subsidiary',\n",
       "  'spo_list': [{'text': '东莞', 'role': 'Arg-2'}]},\n",
       " {'text': '东莞市委市政府',\n",
       "  'relation-type': 'PART-WHOLE:Subsidiary',\n",
       "  'spo_list': [{'text': '市', 'role': 'Arg-2'}]},\n",
       " {'text': '东莞市委市政府领导',\n",
       "  'relation-type': 'ORG-AFF:Employment',\n",
       "  'spo_list': [{'text': '东莞市委市政府领导', 'role': 'Arg-1'}]}]"
      ]
     },
     "execution_count": 44,
     "metadata": {},
     "output_type": "execute_result"
    }
   ],
   "source": [
    "new_col1=process1(train1)\n",
    "new_col1[0:5]"
   ]
  },
  {
   "cell_type": "code",
   "execution_count": 45,
   "metadata": {},
   "outputs": [
    {
     "data": {
      "text/plain": [
       "[{'text': '美国与北韩谈论代表',\n",
       "  'relation-type': 'ORG-AFF:Employment',\n",
       "  'spo_list': [{'text': '美国与北韩谈论代表', 'role': 'Arg-1'},\n",
       "   {'text': '美国', 'role': 'Arg-2'}]},\n",
       " {'text': '美国与北韩谈论代表',\n",
       "  'relation-type': 'ORG-AFF:Employment',\n",
       "  'spo_list': [{'text': '美国与北韩谈论代表', 'role': 'Arg-1'},\n",
       "   {'text': '北韩', 'role': 'Arg-2'}]},\n",
       " {'text': '美国与北韩谈论代表3号在吉隆坡结束为期3天的飞弹会谈，讨论\\n限制北韩长城飞弹研发信号问题',\n",
       "  'relation-type': 'PHYS:Located',\n",
       "  'spo_list': [{'text': '美国与北韩谈论代表', 'role': 'Arg-1'},\n",
       "   {'text': '吉隆坡', 'role': 'Arg-2'}]},\n",
       " {'text': '北韩长城飞弹',\n",
       "  'relation-type': 'ART:User-Owner-Inventor-Manufacturer',\n",
       "  'spo_list': [{'text': '北韩', 'role': 'Arg-1'},\n",
       "   {'text': '北韩长城飞弹', 'role': 'Arg-2'}]},\n",
       " {'text': '美国方面',\n",
       "  'relation-type': 'PART-WHOLE:Subsidiary',\n",
       "  'spo_list': [{'text': '美国方面', 'role': 'Arg-1'},\n",
       "   {'text': '美国', 'role': 'Arg-2'}]}]"
      ]
     },
     "execution_count": 45,
     "metadata": {},
     "output_type": "execute_result"
    }
   ],
   "source": [
    "new_col2=process2(train2)\n",
    "new_col2[0:5]"
   ]
  },
  {
   "cell_type": "code",
   "execution_count": 46,
   "metadata": {},
   "outputs": [],
   "source": [
    "new1=pd.DataFrame({'processing':new_col1})\n",
    "new2=pd.DataFrame({'processing':new_col2})\n",
    "process_new1=pd.concat([train1,new1],axis=1)\n",
    "process_new2=pd.concat([train2,new2],axis=1)\n",
    "process_new2.tail()\n",
    "process_new=pd.concat([process_new1,process_new2],axis=0)"
   ]
  },
  {
   "cell_type": "code",
   "execution_count": 63,
   "metadata": {},
   "outputs": [
    {
     "data": {
      "text/html": [
       "<div>\n",
       "<style scoped>\n",
       "    .dataframe tbody tr th:only-of-type {\n",
       "        vertical-align: middle;\n",
       "    }\n",
       "\n",
       "    .dataframe tbody tr th {\n",
       "        vertical-align: top;\n",
       "    }\n",
       "\n",
       "    .dataframe thead th {\n",
       "        text-align: right;\n",
       "    }\n",
       "</style>\n",
       "<table border=\"1\" class=\"dataframe\">\n",
       "  <thead>\n",
       "    <tr style=\"text-align: right;\">\n",
       "      <th></th>\n",
       "      <th>index</th>\n",
       "      <th>relation-id</th>\n",
       "      <th>relation-type</th>\n",
       "      <th>text</th>\n",
       "      <th>sent_id</th>\n",
       "      <th>position</th>\n",
       "      <th>arguments</th>\n",
       "      <th>len</th>\n",
       "      <th>processing</th>\n",
       "    </tr>\n",
       "  </thead>\n",
       "  <tbody>\n",
       "    <tr>\n",
       "      <th>0</th>\n",
       "      <td>73</td>\n",
       "      <td>CNR20001018.1700.0676-R14-1</td>\n",
       "      <td>ORG-AFF:Employment</td>\n",
       "      <td>中\\n央纪委有关负责人</td>\n",
       "      <td>9</td>\n",
       "      <td>[0, 7]</td>\n",
       "      <td>[{'text': '中\n",
       "央纪委有关负责人', 'sent_id': '9', 'posit...</td>\n",
       "      <td>1</td>\n",
       "      <td>{'text': '中\n",
       "央纪委有关负责人', 'relation-type': 'ORG-A...</td>\n",
       "    </tr>\n",
       "  </tbody>\n",
       "</table>\n",
       "</div>"
      ],
      "text/plain": [
       "   index                  relation-id       relation-type         text  \\\n",
       "0     73  CNR20001018.1700.0676-R14-1  ORG-AFF:Employment  中\\n央纪委有关负责人   \n",
       "\n",
       "   sent_id position                                          arguments  len  \\\n",
       "0        9   [0, 7]  [{'text': '中\n",
       "央纪委有关负责人', 'sent_id': '9', 'posit...    1   \n",
       "\n",
       "                                          processing  \n",
       "0  {'text': '中\n",
       "央纪委有关负责人', 'relation-type': 'ORG-A...  "
      ]
     },
     "execution_count": 63,
     "metadata": {},
     "output_type": "execute_result"
    }
   ],
   "source": [
    "process_new.head(1)"
   ]
  },
  {
   "cell_type": "code",
   "execution_count": 10,
   "metadata": {},
   "outputs": [
    {
     "ename": "SyntaxError",
     "evalue": "invalid character in identifier (<ipython-input-10-2bf3a73a46a4>, line 6)",
     "output_type": "error",
     "traceback": [
      "\u001b[1;36m  File \u001b[1;32m\"<ipython-input-10-2bf3a73a46a4>\"\u001b[1;36m, line \u001b[1;32m6\u001b[0m\n\u001b[1;33m    关系要一一对应好。处理成能yield的格式\u001b[0m\n\u001b[1;37m                        ^\u001b[0m\n\u001b[1;31mSyntaxError\u001b[0m\u001b[1;31m:\u001b[0m invalid character in identifier\n"
     ]
    }
   ],
   "source": [
    "# 图谱基础\n",
    "\n",
    "\n",
    "# BIO序列标注方法\n",
    "\n",
    "# 关系要一一对应好。处理成能yield的格式\n",
    "\n",
    "\n",
    "\n",
    "# 序列标注 multi-head实体标注带的关系，实体重叠\n",
    "\n",
    "# 差异序列标注重叠问题？\n",
    "\n",
    "# 原始数据对应的postion\n",
    "\n",
    "# relation_type\n",
    "\n",
    "# text   role :论元角色\n",
    "\n",
    "# position\n",
    "\n",
    "\n",
    "\n",
    "\n",
    "\n"
   ]
  },
  {
   "cell_type": "code",
   "execution_count": null,
   "metadata": {},
   "outputs": [],
   "source": []
  },
  {
   "cell_type": "code",
   "execution_count": null,
   "metadata": {},
   "outputs": [],
   "source": []
  }
 ],
 "metadata": {
  "kernelspec": {
   "display_name": "Python 3",
   "language": "python",
   "name": "python3"
  },
  "language_info": {
   "codemirror_mode": {
    "name": "ipython",
    "version": 3
   },
   "file_extension": ".py",
   "mimetype": "text/x-python",
   "name": "python",
   "nbconvert_exporter": "python",
   "pygments_lexer": "ipython3",
   "version": "3.7.0"
  },
  "latex_envs": {
   "LaTeX_envs_menu_present": true,
   "autoclose": false,
   "autocomplete": true,
   "bibliofile": "biblio.bib",
   "cite_by": "apalike",
   "current_citInitial": 1,
   "eqLabelWithNumbers": true,
   "eqNumInitial": 1,
   "hotkeys": {
    "equation": "Ctrl-E",
    "itemize": "Ctrl-I"
   },
   "labels_anchors": false,
   "latex_user_defs": false,
   "report_style_numbering": false,
   "user_envs_cfg": false
  },
  "toc": {
   "base_numbering": 1,
   "nav_menu": {},
   "number_sections": true,
   "sideBar": true,
   "skip_h1_title": false,
   "title_cell": "Table of Contents",
   "title_sidebar": "Contents",
   "toc_cell": false,
   "toc_position": {},
   "toc_section_display": true,
   "toc_window_display": false
  }
 },
 "nbformat": 4,
 "nbformat_minor": 2
}
